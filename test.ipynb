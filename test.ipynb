{
  "nbformat": 4,
  "nbformat_minor": 0,
  "metadata": {
    "colab": {
      "provenance": [],
      "authorship_tag": "ABX9TyNGsf6vbwB0vTlZmuhELNx9",
      "include_colab_link": true
    },
    "kernelspec": {
      "name": "python3",
      "display_name": "Python 3"
    },
    "language_info": {
      "name": "python"
    }
  },
  "cells": [
    {
      "cell_type": "markdown",
      "metadata": {
        "id": "view-in-github",
        "colab_type": "text"
      },
      "source": [
        "<a href=\"https://colab.research.google.com/github/rohanSSiddeshwara/2019KickStart/blob/master/test.ipynb\" target=\"_parent\"><img src=\"https://colab.research.google.com/assets/colab-badge.svg\" alt=\"Open In Colab\"/></a>"
      ]
    },
    {
      "cell_type": "code",
      "source": [
        "#dijikstra's algo \n",
        "\n",
        "import heapq\n",
        "\n",
        "class Graph:\n",
        "    def __init__(self, num_of_vertices):\n",
        "        self.num_of_vertices = num_of_vertices\n",
        "        self.graph = [[0 for column in range(num_of_vertices)] for row in range(num_of_vertices)]\n",
        "\n",
        "    def print_shortest_path(self, distances):\n",
        "        print(\"Vertex    Distance from Source\") \n",
        "        for vertex in range(self.num_of_vertices):\n",
        "            print(f\"{vertex}          {distances[vertex]}\")\n",
        "    \n",
        "    def add_edge(self, vertex1, vertex2, weight):\n",
        "        self.graph[vertex1][vertex2] = weight\n",
        "        \n",
        "    def shortest_path(self, source):\n",
        "        distances = [float('inf')] * self.num_of_vertices\n",
        "        distances[source] = 0\n",
        "        visited_vertices = [False] * self.num_of_vertices\n",
        "        heap = [(0, source)]\n",
        "        \n",
        "        while heap:\n",
        "            current_distance, current_vertex = heapq.heappop(heap)\n",
        "            if not visited_vertices[current_vertex]:\n",
        "                visited_vertices[current_vertex] = True\n",
        "                for neighbor in range(self.num_of_vertices):\n",
        "                    if self.graph[current_vertex][neighbor] > 0 and not visited_vertices[neighbor]:\n",
        "                        new_distance = current_distance + self.graph[current_vertex][neighbor]\n",
        "                        if new_distance < distances[neighbor]:\n",
        "                            distances[neighbor] = new_distance\n",
        "                            heapq.heappush(heap, (new_distance, neighbor))\n",
        "        self.print_shortest_path(distances)\n",
        "        \n",
        "g = Graph(9)\n",
        "g.add_edge(0, 1, 4)\n",
        "g.add_edge(0, 7, 8)\n",
        "g.add_edge(1, 2, 8)\n",
        "g.add_edge(1, 7, 11)\n",
        "g.add_edge(2, 3, 7)\n",
        "g.add_edge(2, 8, 2)\n",
        "g.add_edge(2, 5, 4)\n",
        "g.add_edge(3, 4, 9)\n",
        "g.add_edge(3, 5, 14)\n",
        "g.add_edge(4, 5, 10)\n",
        "g.add_edge(5, 6, 2)\n",
        "g.add_edge(6, 7, 1)\n",
        "g.add_edge(6, 8, 6)\n",
        "g.add_edge(7, 8, 7)\n",
        "\n",
        "g.shortest_path(0)\n"
      ],
      "metadata": {
        "colab": {
          "base_uri": "https://localhost:8080/"
        },
        "id": "zKg6KjhzQIpQ",
        "outputId": "d68c70bc-fd9b-4c57-be35-1b83c64968a7"
      },
      "execution_count": 3,
      "outputs": [
        {
          "output_type": "stream",
          "name": "stdout",
          "text": [
            "Vertex    Distance from Source\n",
            "0          0\n",
            "1          4\n",
            "2          12\n",
            "3          19\n",
            "4          28\n",
            "5          16\n",
            "6          18\n",
            "7          8\n",
            "8          14\n"
          ]
        }
      ]
    },
    {
      "cell_type": "code",
      "source": [
        "# Python program to print topological sorting of a DAG\n",
        "from collections import defaultdict\n",
        "\n",
        "\n",
        "\n",
        "\n",
        "class Graph:\n",
        "\tdef __init__(self, vertices):\n",
        "\t\tself.graph = defaultdict(list) \n",
        "\t\tself.V = vertices \n",
        "\n",
        "\n",
        "\tdef addEdge(self, u, v):\n",
        "\t\tself.graph[u].append(v)\n",
        "\n",
        "\n",
        "\tdef topologicalSortUtil(self, v, visited, stack):\n",
        "\t\tvisited[v] = True\n",
        "\t\tfor i in self.graph[v]:\n",
        "\t\t\tif visited[i] == False:\n",
        "\t\t\t\tself.topologicalSortUtil(i, visited, stack)\n",
        "\n",
        "\t\tstack.append(v)\n",
        "\n",
        "\tdef topologicalSort(self):\n",
        "\t\tvisited = [False]*self.V\n",
        "\t\tstack = []\n",
        "\n",
        "\t\tfor i in range(self.V):\n",
        "\t\t\tif visited[i] == False:\n",
        "\t\t\t\tself.topologicalSortUtil(i, visited, stack)\n",
        "\n",
        "\t\tprint(stack[::-1])\n",
        "\n",
        "\n",
        "\n",
        "if __name__ == '__main__':\n",
        "\tg = Graph(6)\n",
        "\tg.addEdge(5, 2)\n",
        "\tg.addEdge(5, 0)\n",
        "\tg.addEdge(4, 0)\n",
        "\tg.addEdge(4, 1)\n",
        "\tg.addEdge(2, 3)\n",
        "\tg.addEdge(3, 1)\n",
        "\n",
        "\tprint(\"Following is a Topological Sort of the given graph\")\n",
        "\n",
        "\n",
        "\tg.topologicalSort()\n",
        "\n",
        "\n"
      ],
      "metadata": {
        "colab": {
          "base_uri": "https://localhost:8080/"
        },
        "id": "VqueJ9WPRUch",
        "outputId": "0d0aa4a4-846c-4b2a-b9a7-ca9f25df1b84"
      },
      "execution_count": 4,
      "outputs": [
        {
          "output_type": "stream",
          "name": "stdout",
          "text": [
            "Following is a Topological Sort of the given graph\n",
            "[5, 4, 2, 3, 1, 0]\n"
          ]
        }
      ]
    },
    {
      "cell_type": "code",
      "source": [
        "#subset\n",
        "\n",
        "def isSubsetSum(set, n, sum):\n",
        "\n",
        "\n",
        "\tif (sum == 0):\n",
        "\t\treturn True\n",
        "\tif (n == 0):\n",
        "\t\treturn False\n",
        "\n",
        "\tif (set[n - 1] > sum):\n",
        "\t\treturn isSubsetSum(set, n - 1, sum)\n",
        "\n",
        "\treturn isSubsetSum(set, n-1, sum) or isSubsetSum(set, n-1, sum-set[n-1])\n",
        "\n",
        "set = [3, 34, 4, 12, 5, 2]\n",
        "sum = 9\n",
        "n = len(set)\n",
        "if (isSubsetSum(set, n, sum) == True):\n",
        "\tprint(\"Found a subset with given sum\")\n",
        "else:\n",
        "\tprint(\"No subset with given sum\")\n",
        "\n"
      ],
      "metadata": {
        "colab": {
          "base_uri": "https://localhost:8080/"
        },
        "id": "87tnZYEZbtpQ",
        "outputId": "76f0923c-bb7b-4013-bf1f-81632f6e8ded"
      },
      "execution_count": 9,
      "outputs": [
        {
          "output_type": "stream",
          "name": "stdout",
          "text": [
            "Found a subset with given sum\n"
          ]
        }
      ]
    },
    {
      "cell_type": "code",
      "source": [
        " class NQueens:\n",
        "    def __init__(self, n):\n",
        "        self.n = n\n",
        "        self.board = [[0 for i in range(n)] for j in range(n)]\n",
        "\n",
        "    def is_safe(self, row, col):\n",
        "        # check if no queen threatens the placing queen\n",
        "        for i in range(col):\n",
        "            if self.board[row][i]: return False\n",
        "\n",
        "        # check upper diagonal on left side\n",
        "        for i, j in zip(range(row, -1, -1), range(col, -1, -1)):\n",
        "            if self.board[i][j]: return False\n",
        "\n",
        "        # check lower diagonal on left side\n",
        "        for i, j in zip(range(row, self.n, 1), range(col, -1, -1)):\n",
        "            if self.board[i][j]: return False\n",
        "        return True\n",
        "\n",
        "    def solve(self):\n",
        "        if not self.solve_util(0):\n",
        "            print(\"Solution does not exist\")\n",
        "            return False\n",
        "        self.print_board()\n",
        "        return True\n",
        "\n",
        "    def solve_util(self, col):\n",
        "        if col == self.n:\n",
        "            return True\n",
        "\n",
        "        for i in range(self.n):\n",
        "            if self.is_safe(i, col):\n",
        "                self.board[i][col] = 1\n",
        "                if self.solve_util(col + 1):\n",
        "                    return True\n",
        "                self.board[i][col] = 0\n",
        "\n",
        "        return False\n",
        "\n",
        "    def print_board(self):\n",
        "        for i in range(self.n):\n",
        "            for j in range(self.n):\n",
        "                print(\"Q\" if self.board[i][j] else \"-\", end=\" \")\n",
        "            print()\n",
        "\n",
        "n = int(input(\"Enter the value of n: \"))\n",
        "n_queens = NQueens(n)\n",
        "n_queens.solve()\n"
      ],
      "metadata": {
        "colab": {
          "base_uri": "https://localhost:8080/"
        },
        "id": "qWRFHUkec3KT",
        "outputId": "a45274f0-89e3-4531-a9a5-f925a928fb91"
      },
      "execution_count": 8,
      "outputs": [
        {
          "output_type": "stream",
          "name": "stdout",
          "text": [
            "Enter the value of n: 4\n",
            "- - Q - \n",
            "Q - - - \n",
            "- - - Q \n",
            "- Q - - \n"
          ]
        },
        {
          "output_type": "execute_result",
          "data": {
            "text/plain": [
              "True"
            ]
          },
          "metadata": {},
          "execution_count": 8
        }
      ]
    },
    {
      "cell_type": "code",
      "source": [],
      "metadata": {
        "id": "mzhLswi6do3G"
      },
      "execution_count": null,
      "outputs": []
    }
  ]
}